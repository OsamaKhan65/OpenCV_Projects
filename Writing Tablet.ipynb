{
 "cells": [
  {
   "cell_type": "markdown",
   "metadata": {},
   "source": [
    "# Writing Tablet\n",
    "\n",
    "#### Introduction\n",
    "The program captures live video from webcam and tracks the movements of index finger & the thumb (only one hand). Based on the distance between them it starts writing on the screen.\n",
    "\n",
    "- If they are in contact (or too close to one another), it starts writing on the screen.\n",
    "- If they are far apart, it doesn't write anything.\n",
    "\n",
    "#### Dependencies\n",
    "The program uses three libraries:\n",
    "\n",
    "- Numpy (for matrix manipulation)\n",
    "- OpenCV (for image processing)\n",
    "- MediaPipe (for detecting hand)\n",
    "\n",
    "If you don't have any or all of the above libraries, you can download them using the following commands in command prompt (Windows) or terminal (Linux):"
   ]
  },
  {
   "cell_type": "raw",
   "metadata": {},
   "source": [
    "pip install numpy\n",
    "pip install opencv-contrib-python\n",
    "pip install mediapipe"
   ]
  },
  {
   "cell_type": "markdown",
   "metadata": {},
   "source": [
    "\n",
    "#### Code\n",
    "This is the code if you want to run it in a python compiler or a notebook:"
   ]
  },
  {
   "cell_type": "raw",
   "metadata": {},
   "source": [
    "import cv2 as cv\n",
    "import numpy as np\n",
    "import mediapipe as mp\n",
    "\n",
    "mphands = mp.solutions.hands\n",
    "hands = mphands.Hands(max_num_hands=1)\n",
    "mp_drawing = mp.solutions.drawing_utils\n",
    "\n",
    "cap = cv.VideoCapture(0)\n",
    "_, frame = cap.read()\n",
    "h, w, c = frame.shape\n",
    "canvas = np.zeros((h, w, 3), dtype='uint8')\n",
    "\n",
    "while True:\n",
    "    _, frame = cap.read()\n",
    "    frame = cv.flip(frame, 1)\n",
    "    framergb = cv.cvtColor(frame, cv.COLOR_BGR2RGB)\n",
    "    result = hands.process(framergb)\n",
    "    hand_landmarks = result.multi_hand_landmarks\n",
    "    if hand_landmarks:\n",
    "        for handLMs in hand_landmarks:\n",
    "            for n, lm in enumerate(handLMs.landmark):\n",
    "                if n==4:\n",
    "                    x_t, y_t = int(lm.x * w), int(lm.y * h)\n",
    "                    cv.circle(frame, (x_t, y_t), 20, (0, 255, 0), -1)\n",
    "                if n==8:\n",
    "                    x_f, y_f = int(lm.x * w), int(lm.y * h)\n",
    "                    cv.circle(frame, (x_f, y_f), 20, (0, 255, 0), -1)\n",
    "            d = abs(x_t-x_f) + abs(y_t-y_f)\n",
    "            if d>40:\n",
    "                x2, y2 = (x_t+x_f)//2, (y_t+y_f)//2\n",
    "            else:\n",
    "                x1, y1 = x2, y2\n",
    "                x2, y2 = (x_t+x_f)//2, (y_t+y_f)//2\n",
    "                cv.line(canvas, (x1, y1), (x2, y2), (255, 0, 255), 5)\n",
    "    canvas[:,:,1] = -255\n",
    "    frame = cv.add(frame, canvas)\n",
    "    cv.imshow(\"Tablet\", frame)\n",
    "    if cv.waitKey(1) & 0xFF==ord('d'):\n",
    "        break\n",
    "cap.release()\n",
    "cv.destroyAllWindows()"
   ]
  },
  {
   "cell_type": "markdown",
   "metadata": {},
   "source": [
    "Press 'd' to close the capture window."
   ]
  }
 ],
 "metadata": {
  "kernelspec": {
   "display_name": "Python 3",
   "language": "python",
   "name": "python3"
  },
  "language_info": {
   "codemirror_mode": {
    "name": "ipython",
    "version": 3
   },
   "file_extension": ".py",
   "mimetype": "text/x-python",
   "name": "python",
   "nbconvert_exporter": "python",
   "pygments_lexer": "ipython3",
   "version": "3.8.10"
  }
 },
 "nbformat": 4,
 "nbformat_minor": 4
}
